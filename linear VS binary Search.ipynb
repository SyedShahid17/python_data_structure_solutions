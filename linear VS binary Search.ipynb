{
 "cells": [
  {
   "cell_type": "code",
   "execution_count": 1,
   "metadata": {},
   "outputs": [
    {
     "name": "stdout",
     "output_type": "stream",
     "text": [
      "Number to be guessed: 2187484\n",
      "element found\n",
      "No. of guesses made using linear search: 2187483\n",
      "Linear Search:Execution time in seconds:0.41290\n",
      "element found\n",
      "No. of guesses made using binary search: 17\n",
      "Binary Search:Execution time in seconds:0.00205\n"
     ]
    }
   ],
   "source": [
    "#DSA-Tryout\n",
    "\n",
    "import random\n",
    "from timeit import default_timer as timer\n",
    "\n",
    "def find_it_linear(num,element_list):\n",
    "    #logic to search num in element_list using linear search algorithm\n",
    "    guess=0 \n",
    "    for i in element_list:\n",
    "        if (i==num): \n",
    "            print(\"element found\") \n",
    "            break\n",
    "        else:\n",
    "            guess=guess+1\n",
    "    return guess\n",
    "\n",
    "def find_it_binary(num,element_list):\n",
    "    #logic to search num in element_list using binary search algorithm\n",
    "    #Return the total number of guesses made\n",
    "    low = 0\n",
    "    high = len(element_list) - 1\n",
    "    mid = 0 \n",
    "    guess=0\n",
    " \n",
    "    while low <= high:\n",
    " \n",
    "        mid = (high + low) // 2\n",
    " \n",
    "        # If num is greater, ignore left half\n",
    "        if element_list[mid] < num:\n",
    "            low = mid + 1\n",
    " \n",
    "        # If num is smaller, ignore right half\n",
    "        elif element_list[mid] > num:\n",
    "            high = mid - 1\n",
    " \n",
    "        # means x is present at mid\n",
    "        else:\n",
    "            print('element found') \n",
    "            return guess\n",
    "        guess+=1\n",
    "        \n",
    "    return guess\n",
    "    \n",
    "\n",
    "#Initializes a list with values 1 to n in ascending order and returns it\n",
    "def initialize_list_of_elements(n):\n",
    "    list_of_elements=[]\n",
    "    for i in range(1,n+1):\n",
    "        list_of_elements.append(i)\n",
    "    return list_of_elements\n",
    "\n",
    "def play(n):\n",
    "    list_of_elements=initialize_list_of_elements(n)\n",
    "    rand_index=random.randrange(0,len(list_of_elements))\n",
    "    rand_num=list_of_elements[rand_index]\n",
    "    print(\"Number to be guessed:\",rand_num)\n",
    "    start=timer()\n",
    "    print(\"No. of guesses made using linear search:\",find_it_linear(rand_num,list_of_elements))\n",
    "    end=timer()\n",
    "    print(\"Linear Search:Execution time in seconds:{0:.5f}\".format( (end-start)))\n",
    "    start=timer()\n",
    "    print(\"No. of guesses made using binary search:\",find_it_binary(rand_num,list_of_elements))\n",
    "    end=timer()\n",
    "    print(\"Binary Search:Execution time in seconds:{0:.5f}\".format( (end-start)))\n",
    "\n",
    "#Pass different values to play() and observe the output\n",
    "play(4000000)"
   ]
  },
  {
   "cell_type": "code",
   "execution_count": null,
   "metadata": {},
   "outputs": [],
   "source": []
  }
 ],
 "metadata": {
  "kernelspec": {
   "display_name": "Python 3",
   "language": "python",
   "name": "python3"
  },
  "language_info": {
   "codemirror_mode": {
    "name": "ipython",
    "version": 3
   },
   "file_extension": ".py",
   "mimetype": "text/x-python",
   "name": "python",
   "nbconvert_exporter": "python",
   "pygments_lexer": "ipython3",
   "version": "3.8.5"
  }
 },
 "nbformat": 4,
 "nbformat_minor": 4
}
